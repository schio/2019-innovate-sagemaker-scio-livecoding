{
 "cells": [
  {
   "cell_type": "markdown",
   "metadata": {},
   "source": [
    "## Configure where to fetch our training data:"
   ]
  },
  {
   "cell_type": "code",
   "execution_count": 1,
   "metadata": {},
   "outputs": [],
   "source": [
    "data_bucket_name='s3webcamuploader83a65c76f8384092b63d212639122190' # An S3 Bucket Name\n",
    "dataset_name = '20181003a' # A path inside the S3 bucket containing sub-folders of images (one per label class)"
   ]
  },
  {
   "cell_type": "markdown",
   "metadata": {},
   "source": [
    "## Prequisites and Preprocessing\n",
    "\n",
    "### Permissions and environment variables\n",
    "\n",
    "Here we set up the linkage and authentication to AWS services. There are three parts to this:\n",
    "\n",
    "* The roles used to give learning and hosting access to your data. This will automatically be obtained from the role used to start the notebook\n",
    "* The S3 bucket that you want to use for training and model data\n",
    "* The Amazon sagemaker image classification docker image which need not be changed"
   ]
  },
  {
   "cell_type": "code",
   "execution_count": 2,
   "metadata": {},
   "outputs": [
    {
     "name": "stdout",
     "output_type": "stream",
     "text": [
      "CPU times: user 804 ms, sys: 152 ms, total: 956 ms\n",
      "Wall time: 2.96 s\n"
     ]
    }
   ],
   "source": [
    "%%time\n",
    "import sagemaker\n",
    "from sagemaker import get_execution_role\n",
    "\n",
    "role = get_execution_role()\n",
    "sess = sagemaker.Session()\n",
    "bucket = sess.default_bucket()\n",
    "prefix = 'ic-transfer-learning'"
   ]
  },
  {
   "cell_type": "code",
   "execution_count": 3,
   "metadata": {},
   "outputs": [],
   "source": [
    "from sagemaker.amazon.amazon_estimator import get_image_uri\n",
    "\n",
    "training_image = get_image_uri(sess.boto_region_name, 'image-classification', repo_version=\"latest\")"
   ]
  },
  {
   "cell_type": "markdown",
   "metadata": {},
   "source": [
    "## Preparing data for our model"
   ]
  },
  {
   "cell_type": "markdown",
   "metadata": {},
   "source": [
    "Set up some environment variables"
   ]
  },
  {
   "cell_type": "code",
   "execution_count": 4,
   "metadata": {},
   "outputs": [
    {
     "name": "stdout",
     "output_type": "stream",
     "text": [
      "env: BASE_DIR=/tmp\n",
      "env: S3_DATA_BUCKET_NAME=s3webcamuploader83a65c76f8384092b63d212639122190\n",
      "env: DATASET_NAME=20181003a\n",
      "env: IM2REC=/home/ec2-user/anaconda3/envs/mxnet_p36/lib/python3.6/site-packages/mxnet/tools/im2rec.py\n"
     ]
    }
   ],
   "source": [
    "base_dir='/tmp'\n",
    "\n",
    "%env BASE_DIR=$base_dir\n",
    "%env S3_DATA_BUCKET_NAME = $data_bucket_name\n",
    "%env DATASET_NAME = $dataset_name\n",
    "\n",
    "# Find im2rec in our environment\n",
    "import sys,os\n",
    "\n",
    "suffix='/mxnet/tools/im2rec.py'\n",
    "im2rec = list(filter( (lambda x: os.path.isfile(x + suffix )), sys.path))[0] + suffix\n",
    "%env IM2REC=$im2rec"
   ]
  },
  {
   "cell_type": "markdown",
   "metadata": {},
   "source": [
    "Pull down our data from S3"
   ]
  },
  {
   "cell_type": "code",
   "execution_count": 5,
   "metadata": {},
   "outputs": [
    {
     "name": "stderr",
     "output_type": "stream",
     "text": [
      "+ aws s3 sync s3://s3webcamuploader83a65c76f8384092b63d212639122190/public/20181003a /tmp/20181003a --quiet\n"
     ]
    }
   ],
   "source": [
    "%%bash\n",
    "# Pull our images from S3\n",
    "set -x\n",
    "aws s3 sync s3://$S3_DATA_BUCKET_NAME/public/$DATASET_NAME $BASE_DIR/$DATASET_NAME --quiet"
   ]
  },
  {
   "cell_type": "markdown",
   "metadata": {},
   "source": [
    "In order to train our image classifier, Sagemaker wants our data in either LST file format or RecordIO format.\n",
    "\n",
    "We can use the `im2rec.py` tool to create either of these types. Here, we'll use `im2rec.py` to split our data \n",
    "into `test` and `train` groups, creating LST files for each of these groups and outputting a file that contains \n",
    "a mapping of each class label index to its class.\n",
    "\n",
    "Then we'll convert the LST files into RecordIO files using the same `im2rec.py` tool."
   ]
  },
  {
   "cell_type": "code",
   "execution_count": 6,
   "metadata": {},
   "outputs": [
    {
     "name": "stdout",
     "output_type": "stream",
     "text": [
      "Creating LST files\n",
      "Label classes:\n",
      "hand 0\n",
      "human 1\n",
      "phone 2\n",
      "Creating RecordIO files\n",
      "Creating .rec file from /tmp/20181003a_train.lst in /tmp\n",
      "time: 0.04818916320800781  count: 0\n",
      "Creating .rec file from /tmp/20181003a_test.lst in /tmp\n",
      "time: 0.00472259521484375  count: 0\n",
      "-rw-rw-r-- 1 ec2-user ec2-user 398K Oct  3 09:00 20181003a_test.rec\n",
      "-rw-rw-r-- 1 ec2-user ec2-user 916K Oct  3 09:00 20181003a_train.rec\n"
     ]
    },
    {
     "name": "stderr",
     "output_type": "stream",
     "text": [
      "+ cd /tmp\n",
      "+ echo 'Creating LST files'\n",
      "+ python /home/ec2-user/anaconda3/envs/mxnet_p36/lib/python3.6/site-packages/mxnet/tools/im2rec.py --list --recursive --pass-through --test-ratio=0.3 --train-ratio=0.7 20181003a 20181003a\n",
      "+ echo 'Label classes:'\n",
      "+ cat 20181003a_classes\n",
      "+ echo 'Creating RecordIO files'\n",
      "+ python /home/ec2-user/anaconda3/envs/mxnet_p36/lib/python3.6/site-packages/mxnet/tools/im2rec.py --num-thread=4 20181003a_train.lst 20181003a\n",
      "+ python /home/ec2-user/anaconda3/envs/mxnet_p36/lib/python3.6/site-packages/mxnet/tools/im2rec.py --num-thread=4 20181003a_test.lst 20181003a\n",
      "+ ls -lh 20181003a_test.rec 20181003a_train.rec\n"
     ]
    }
   ],
   "source": [
    "%%bash\n",
    "set -x\n",
    "# Use the IM2REC script to convert our images into RecordIO files\n",
    "\n",
    "cd $BASE_DIR\n",
    "\n",
    "# First we need to create two LST files (training and test lists), noting the correct label class for each image\n",
    "# We'll also save the output of the LST files command, since it includes a list of all of our label classes\n",
    "echo \"Creating LST files\"\n",
    "python $IM2REC --list --recursive --pass-through --test-ratio=0.3 --train-ratio=0.7 $DATASET_NAME $DATASET_NAME > ${DATASET_NAME}_classes\n",
    "\n",
    "echo \"Label classes:\"\n",
    "cat ${DATASET_NAME}_classes\n",
    "\n",
    "# Then we create RecordIO files from the LST files\n",
    "echo \"Creating RecordIO files\"\n",
    "python $IM2REC --num-thread=4 ${DATASET_NAME}_train.lst $DATASET_NAME\n",
    "python $IM2REC --num-thread=4 ${DATASET_NAME}_test.lst $DATASET_NAME\n",
    "ls -lh *.rec"
   ]
  },
  {
   "cell_type": "markdown",
   "metadata": {},
   "source": [
    "Finally, we'll upload our RecordIO files (they end in `.rec`) to an S3 bucket we'll use for training."
   ]
  },
  {
   "cell_type": "code",
   "execution_count": 7,
   "metadata": {},
   "outputs": [
    {
     "name": "stdout",
     "output_type": "stream",
     "text": [
      "delete: s3://sagemaker-us-west-2-541003905521/ic-transfer-learning/train/objects-home-a_train.rec\n",
      "delete: s3://sagemaker-us-west-2-541003905521/ic-transfer-learning/validation/objects-home-a_test.rec\n",
      "upload: ../../../tmp/20181003a_train.rec to s3://sagemaker-us-west-2-541003905521/ic-transfer-learning/train/20181003a_train.rec\n",
      "upload: ../../../tmp/20181003a_test.rec to s3://sagemaker-us-west-2-541003905521/ic-transfer-learning/validation/20181003a_test.rec\n"
     ]
    }
   ],
   "source": [
    "# Upload our train and test RecordIO files to S3 in the bucket that our sagemaker session is using\n",
    "\n",
    "s3train_path = 's3://{}/{}/train/'.format(bucket, prefix)\n",
    "s3validation_path = 's3://{}/{}/validation/'.format(bucket, prefix)\n",
    "\n",
    "# Clean up any existing data\n",
    "!aws s3 rm s3://{bucket}/{prefix}/train --recursive\n",
    "!aws s3 rm s3://{bucket}/{prefix}/validation --recursive\n",
    "\n",
    "# Upload the rec files to the train and validation channels\n",
    "!aws s3 cp /tmp/{dataset_name}_train.rec $s3train_path\n",
    "!aws s3 cp /tmp/{dataset_name}_test.rec $s3validation_path\n",
    "\n"
   ]
  },
  {
   "cell_type": "markdown",
   "metadata": {},
   "source": [
    "### Configuring the data for our model training to use\n",
    "Set the data type and channels used for training"
   ]
  },
  {
   "cell_type": "code",
   "execution_count": 8,
   "metadata": {},
   "outputs": [],
   "source": [
    "train_data = sagemaker.session.s3_input(\n",
    "    s3train_path, \n",
    "    distribution='FullyReplicated', \n",
    "    content_type='application/x-recordio', \n",
    "    s3_data_type='S3Prefix'\n",
    ")\n",
    "\n",
    "validation_data = sagemaker.session.s3_input(\n",
    "    s3validation_path, \n",
    "    distribution='FullyReplicated', \n",
    "    content_type='application/x-recordio', \n",
    "    s3_data_type='S3Prefix'\n",
    ")\n",
    "\n",
    "data_channels = {'train': train_data, 'validation': validation_data}"
   ]
  },
  {
   "cell_type": "markdown",
   "metadata": {},
   "source": [
    "Once we have the data available in the correct format for training, the next step is to actually train the model using the data. Before training the model, we need to setup the training parameters. The next section will explain the parameters in detail."
   ]
  },
  {
   "cell_type": "markdown",
   "metadata": {},
   "source": [
    "## Training\n",
    "Now that we are done with all the setup that is needed, we are ready to train our object detector. To begin, let us create a ``sageMaker.estimator.Estimator`` object. This estimator will launch the training job.\n",
    "### Training parameters\n",
    "There are two kinds of parameters that need to be set for training. The first one are the parameters for the training job. These include:\n",
    "\n",
    "* **Training instance count**: This is the number of instances on which to run the training. When the number of instances is greater than one, then the image classification algorithm will run in distributed settings. \n",
    "* **Training instance type**: This indicates the type of machine on which to run the training. Typically, we use GPU instances for these training \n",
    "* **Output path**: This the s3 folder in which the training output is stored"
   ]
  },
  {
   "cell_type": "code",
   "execution_count": 9,
   "metadata": {},
   "outputs": [],
   "source": [
    "s3_output_location = 's3://{}/{}/output'.format(bucket, prefix)\n",
    "ic = sagemaker.estimator.Estimator(\n",
    "    training_image,\n",
    "    role, \n",
    "    train_instance_count=1, \n",
    "    train_instance_type='ml.p3.2xlarge',\n",
    "    output_path=s3_output_location,\n",
    "    sagemaker_session=sess\n",
    ")"
   ]
  },
  {
   "cell_type": "markdown",
   "metadata": {},
   "source": [
    "Apart from the above set of parameters, there are hyperparameters that are specific to the algorithm. These are:\n",
    "\n",
    "* **num_layers**: The number of layers (depth) for the network. We use 18 in this samples but other values such as 50, 152 can be used.\n",
    "* **use_pretrained_model**: Set to 1 to use pretrained model for transfer learning.\n",
    "* **image_shape**: The input image dimensions,'num_channels, height, width', for the network. It should be no larger than the actual image size. The number of channels should be same as the actual image.\n",
    "* **num_classes**: This is the number of output classes for the new dataset. Imagenet was trained with 1000 output classes but the number of output classes can be changed for fine-tuning. For caltech, we use 257 because it has 256 object categories + 1 clutter class.\n",
    "* **num_training_samples**: This is the total number of training samples. It is set to 15240 for caltech dataset with the current split.\n",
    "* **mini_batch_size**: The number of training samples used for each mini batch. In distributed training, the number of training samples used per batch will be N * mini_batch_size where N is the number of hosts on which training is run.\n",
    "* **epochs**: Number of training epochs.\n",
    "* **learning_rate**: Learning rate for training.\n",
    "* **precision_dtype**: Training datatype precision (default: float32). If set to 'float16', the training will be done in mixed_precision mode and will be faster than float32 mode\n"
   ]
  },
  {
   "cell_type": "code",
   "execution_count": 10,
   "metadata": {},
   "outputs": [
    {
     "data": {
      "text/plain": [
       "{'use_pretrained_model': 1,\n",
       " 'image_shape': '3,224,224',\n",
       " 'num_classes': 3,\n",
       " 'num_training_samples': 62,\n",
       " 'epochs': 30,\n",
       " 'learning_rate': 0.001,\n",
       " 'mini_batch_size': 5}"
      ]
     },
     "execution_count": 10,
     "metadata": {},
     "output_type": "execute_result"
    }
   ],
   "source": [
    "num_classes=! ls -l {base_dir}/{dataset_name} | wc -l\n",
    "num_classes=int(num_classes[0]) - 1\n",
    "\n",
    "num_training_samples=! cat {base_dir}/{dataset_name}_train.lst | wc -l\n",
    "num_training_samples = int(num_training_samples[0])\n",
    "\n",
    "# Learn more about the Sagemaker built-in Image Classifier hyperparameters here: https://docs.aws.amazon.com/sagemaker/latest/dg/IC-Hyperparameter.html\n",
    "\n",
    "# These hyperparameters we won't want to change, as they define things like\n",
    "# the size of the images we'll be sending for input, the number of training classes we have, etc.\n",
    "base_hyperparameters=dict(\n",
    "    use_pretrained_model=1,\n",
    "    image_shape='3,224,224',\n",
    "    num_classes=num_classes,\n",
    "    num_training_samples=num_training_samples,\n",
    ")\n",
    "\n",
    "# These are hyperparameters we may want to tune, as they can affect the model training success:\n",
    "hyperparameters={\n",
    "    **base_hyperparameters, \n",
    "    **dict(\n",
    "        epochs=30,\n",
    "        learning_rate=0.001,\n",
    "        mini_batch_size=5,\n",
    "    )\n",
    "}\n",
    "\n",
    "\n",
    "ic.set_hyperparameters(**hyperparameters)\n",
    "\n",
    "hyperparameters"
   ]
  },
  {
   "cell_type": "markdown",
   "metadata": {},
   "source": [
    "### Start the training\n",
    "Start training by calling the fit method in the estimator. This will take some time because it's provisioning a new container runtime to train our model, then the actual training happens, then the trained model gets uploaded to S3 and the container is shut down."
   ]
  },
  {
   "cell_type": "code",
   "execution_count": 11,
   "metadata": {
    "scrolled": false
   },
   "outputs": [
    {
     "name": "stderr",
     "output_type": "stream",
     "text": [
      "INFO:sagemaker:Creating training-job with name: image-classification-2018-10-03-09-01-29-504\n"
     ]
    },
    {
     "name": "stdout",
     "output_type": "stream",
     "text": [
      "2018-10-03 09:01:29 Starting - Starting the training job...\n",
      "Launching requested ML instances......\n",
      "Preparing the instances for training......\n",
      "2018-10-03 09:03:30 Downloading - Downloading input data\n",
      "2018-10-03 09:03:42 Training - Downloading the training image.....\n",
      "\u001b[31mDocker entrypoint called with argument(s): train\u001b[0m\n",
      "\u001b[31m[10/03/2018 09:04:38 INFO 139895187597120] Reading default configuration from /opt/amazon/lib/python2.7/site-packages/image_classification/default-input.json: {u'beta_1': 0.9, u'gamma': 0.9, u'beta_2': 0.999, u'optimizer': u'sgd', u'use_pretrained_model': 0, u'eps': 1e-08, u'epochs': 30, u'lr_scheduler_factor': 0.1, u'num_layers': 152, u'image_shape': u'3,224,224', u'precision_dtype': u'float32', u'mini_batch_size': 32, u'weight_decay': 0.0001, u'learning_rate': 0.1, u'momentum': 0}\u001b[0m\n",
      "\u001b[31m[10/03/2018 09:04:38 INFO 139895187597120] Reading provided configuration from /opt/ml/input/config/hyperparameters.json: {u'use_pretrained_model': u'1', u'epochs': u'30', u'num_training_samples': u'62', u'image_shape': u'3,224,224', u'mini_batch_size': u'5', u'learning_rate': u'0.001', u'num_classes': u'3'}\u001b[0m\n",
      "\u001b[31m[10/03/2018 09:04:38 INFO 139895187597120] Final configuration: {u'optimizer': u'sgd', u'learning_rate': u'0.001', u'epochs': u'30', u'lr_scheduler_factor': 0.1, u'num_layers': 152, u'precision_dtype': u'float32', u'mini_batch_size': u'5', u'num_classes': u'3', u'beta_1': 0.9, u'beta_2': 0.999, u'use_pretrained_model': u'1', u'eps': 1e-08, u'weight_decay': 0.0001, u'momentum': 0, u'image_shape': u'3,224,224', u'gamma': 0.9, u'num_training_samples': u'62'}\u001b[0m\n",
      "\u001b[31m[10/03/2018 09:04:38 INFO 139895187597120] Using pretrained model for initalizing weights\u001b[0m\n",
      "\u001b[31m[10/03/2018 09:04:38 INFO 139895187597120] ---- Parameters ----\u001b[0m\n",
      "\u001b[31m[10/03/2018 09:04:38 INFO 139895187597120] num_layers: 152\u001b[0m\n",
      "\u001b[31m[10/03/2018 09:04:38 INFO 139895187597120] data type: <type 'numpy.float32'>\u001b[0m\n",
      "\u001b[31m[10/03/2018 09:04:38 INFO 139895187597120] epochs: 30\u001b[0m\n",
      "\u001b[31m[10/03/2018 09:04:38 INFO 139895187597120] optimizer: sgd\u001b[0m\n",
      "\u001b[31m[10/03/2018 09:04:38 INFO 139895187597120] momentum: 0.900000\u001b[0m\n",
      "\u001b[31m[10/03/2018 09:04:38 INFO 139895187597120] weight_decay: 0.000100\u001b[0m\n",
      "\u001b[31m[10/03/2018 09:04:38 INFO 139895187597120] learning_rate: 0.001000\u001b[0m\n",
      "\u001b[31m[10/03/2018 09:04:38 INFO 139895187597120] lr_scheduler_step defined without lr_scheduler_factor, will be ignored...\u001b[0m\n",
      "\u001b[31m[10/03/2018 09:04:38 INFO 139895187597120] mini_batch_size: 5\u001b[0m\n",
      "\u001b[31m[10/03/2018 09:04:38 INFO 139895187597120] image_shape: 3,224,224\u001b[0m\n",
      "\u001b[31m[10/03/2018 09:04:38 INFO 139895187597120] num_classes: 3\u001b[0m\n",
      "\u001b[31m[10/03/2018 09:04:38 INFO 139895187597120] num_training_samples: 62\u001b[0m\n",
      "\u001b[31m[10/03/2018 09:04:38 INFO 139895187597120] augmentation_type: None\u001b[0m\n",
      "\u001b[31m[10/03/2018 09:04:38 INFO 139895187597120] kv_store: device\u001b[0m\n",
      "\u001b[31m[10/03/2018 09:04:38 INFO 139895187597120] checkpoint_frequency: 30\u001b[0m\n",
      "\u001b[31m[10/03/2018 09:04:38 INFO 139895187597120] multi_label: 0\u001b[0m\n",
      "\u001b[31m[10/03/2018 09:04:38 INFO 139895187597120] --------------------\u001b[0m\n",
      "\u001b[31m[09:04:38] /opt/brazil-pkg-cache/packages/AIAlgorithmsMXNet/AIAlgorithmsMXNet-1.2.x.288.0/RHEL5_64/generic-flavor/src/src/nnvm/legacy_json_util.cc:209: Loading symbol saved by previous version v0.8.0. Attempting to upgrade...\u001b[0m\n",
      "\u001b[31m[09:04:38] /opt/brazil-pkg-cache/packages/AIAlgorithmsMXNet/AIAlgorithmsMXNet-1.2.x.288.0/RHEL5_64/generic-flavor/src/src/nnvm/legacy_json_util.cc:217: Symbol successfully upgraded!\u001b[0m\n",
      "\u001b[31m[10/03/2018 09:04:39 INFO 139895187597120] Setting number of threads: 7\u001b[0m\n",
      "\n",
      "Training image download completed. Training in progress.\u001b[31m[09:04:51] /opt/brazil-pkg-cache/packages/AIAlgorithmsMXNet/AIAlgorithmsMXNet-1.2.x.288.0/RHEL5_64/generic-flavor/src/src/operator/nn/./cudnn/./cudnn_algoreg-inl.h:107: Running performance tests to find the best convolution algorithm, this can take a while... (setting env variable MXNET_CUDNN_AUTOTUNE_DEFAULT to 0 to disable)\u001b[0m\n",
      "\u001b[31m[10/03/2018 09:04:55 INFO 139895187597120] Epoch[0] Train-accuracy=0.733333\u001b[0m\n",
      "\u001b[31m[10/03/2018 09:04:55 INFO 139895187597120] Epoch[0] Time cost=3.329\u001b[0m\n",
      "\u001b[31m[10/03/2018 09:04:55 INFO 139895187597120] Epoch[0] Validation-accuracy=1.000000\u001b[0m\n",
      "\u001b[31m[10/03/2018 09:04:57 INFO 139895187597120] Epoch[1] Train-accuracy=0.933333\u001b[0m\n",
      "\u001b[31m[10/03/2018 09:04:57 INFO 139895187597120] Epoch[1] Time cost=1.600\u001b[0m\n",
      "\u001b[31m[10/03/2018 09:04:58 INFO 139895187597120] Epoch[1] Validation-accuracy=1.000000\u001b[0m\n",
      "\u001b[31m[10/03/2018 09:04:59 INFO 139895187597120] Epoch[2] Train-accuracy=0.966667\u001b[0m\n",
      "\u001b[31m[10/03/2018 09:04:59 INFO 139895187597120] Epoch[2] Time cost=1.593\u001b[0m\n",
      "\u001b[31m[10/03/2018 09:05:00 INFO 139895187597120] Epoch[2] Validation-accuracy=1.000000\u001b[0m\n",
      "\u001b[31m[10/03/2018 09:05:02 INFO 139895187597120] Epoch[3] Train-accuracy=0.983333\u001b[0m\n",
      "\u001b[31m[10/03/2018 09:05:02 INFO 139895187597120] Epoch[3] Time cost=1.660\u001b[0m\n",
      "\u001b[31m[10/03/2018 09:05:02 INFO 139895187597120] Epoch[3] Validation-accuracy=1.000000\u001b[0m\n",
      "\u001b[31m[10/03/2018 09:05:04 INFO 139895187597120] Epoch[4] Train-accuracy=0.983333\u001b[0m\n",
      "\u001b[31m[10/03/2018 09:05:04 INFO 139895187597120] Epoch[4] Time cost=1.599\u001b[0m\n",
      "\u001b[31m[10/03/2018 09:05:05 INFO 139895187597120] Epoch[4] Validation-accuracy=1.000000\u001b[0m\n",
      "\u001b[31m[10/03/2018 09:05:06 INFO 139895187597120] Epoch[5] Train-accuracy=0.983333\u001b[0m\n",
      "\u001b[31m[10/03/2018 09:05:06 INFO 139895187597120] Epoch[5] Time cost=1.628\u001b[0m\n",
      "\u001b[31m[10/03/2018 09:05:07 INFO 139895187597120] Epoch[5] Validation-accuracy=1.000000\u001b[0m\n",
      "\u001b[31m[10/03/2018 09:05:09 INFO 139895187597120] Epoch[6] Train-accuracy=0.983333\u001b[0m\n",
      "\u001b[31m[10/03/2018 09:05:09 INFO 139895187597120] Epoch[6] Time cost=1.609\u001b[0m\n",
      "\u001b[31m[10/03/2018 09:05:10 INFO 139895187597120] Epoch[6] Validation-accuracy=1.000000\u001b[0m\n",
      "\u001b[31m[10/03/2018 09:05:11 INFO 139895187597120] Epoch[7] Train-accuracy=1.000000\u001b[0m\n",
      "\u001b[31m[10/03/2018 09:05:11 INFO 139895187597120] Epoch[7] Time cost=1.602\u001b[0m\n",
      "\u001b[31m[10/03/2018 09:05:12 INFO 139895187597120] Epoch[7] Validation-accuracy=1.000000\u001b[0m\n",
      "\u001b[31m[10/03/2018 09:05:14 INFO 139895187597120] Epoch[8] Train-accuracy=1.000000\u001b[0m\n",
      "\u001b[31m[10/03/2018 09:05:14 INFO 139895187597120] Epoch[8] Time cost=1.617\u001b[0m\n",
      "\u001b[31m[10/03/2018 09:05:14 INFO 139895187597120] Epoch[8] Validation-accuracy=1.000000\u001b[0m\n",
      "\u001b[31m[10/03/2018 09:05:16 INFO 139895187597120] Epoch[9] Train-accuracy=0.933333\u001b[0m\n",
      "\u001b[31m[10/03/2018 09:05:16 INFO 139895187597120] Epoch[9] Time cost=1.589\u001b[0m\n",
      "\u001b[31m[10/03/2018 09:05:17 INFO 139895187597120] Epoch[9] Validation-accuracy=1.000000\u001b[0m\n",
      "\u001b[31m[10/03/2018 09:05:18 INFO 139895187597120] Epoch[10] Train-accuracy=0.983333\u001b[0m\n",
      "\u001b[31m[10/03/2018 09:05:18 INFO 139895187597120] Epoch[10] Time cost=1.599\u001b[0m\n",
      "\u001b[31m[10/03/2018 09:05:19 INFO 139895187597120] Epoch[10] Validation-accuracy=1.000000\u001b[0m\n",
      "\u001b[31m[10/03/2018 09:05:21 INFO 139895187597120] Epoch[11] Train-accuracy=0.983333\u001b[0m\n",
      "\u001b[31m[10/03/2018 09:05:21 INFO 139895187597120] Epoch[11] Time cost=1.595\u001b[0m\n",
      "\u001b[31m[10/03/2018 09:05:21 INFO 139895187597120] Epoch[11] Validation-accuracy=1.000000\u001b[0m\n",
      "\u001b[31m[10/03/2018 09:05:23 INFO 139895187597120] Epoch[12] Train-accuracy=1.000000\u001b[0m\n",
      "\u001b[31m[10/03/2018 09:05:23 INFO 139895187597120] Epoch[12] Time cost=1.599\u001b[0m\n",
      "\u001b[31m[10/03/2018 09:05:24 INFO 139895187597120] Epoch[12] Validation-accuracy=1.000000\u001b[0m\n",
      "\u001b[31m[10/03/2018 09:05:25 INFO 139895187597120] Epoch[13] Train-accuracy=0.983333\u001b[0m\n",
      "\u001b[31m[10/03/2018 09:05:25 INFO 139895187597120] Epoch[13] Time cost=1.615\u001b[0m\n",
      "\u001b[31m[10/03/2018 09:05:26 INFO 139895187597120] Epoch[13] Validation-accuracy=1.000000\u001b[0m\n",
      "\u001b[31m[10/03/2018 09:05:28 INFO 139895187597120] Epoch[14] Train-accuracy=1.000000\u001b[0m\n",
      "\u001b[31m[10/03/2018 09:05:28 INFO 139895187597120] Epoch[14] Time cost=1.599\u001b[0m\n",
      "\u001b[31m[10/03/2018 09:05:28 INFO 139895187597120] Epoch[14] Validation-accuracy=1.000000\u001b[0m\n",
      "\u001b[31m[10/03/2018 09:05:30 INFO 139895187597120] Epoch[15] Train-accuracy=1.000000\u001b[0m\n",
      "\u001b[31m[10/03/2018 09:05:30 INFO 139895187597120] Epoch[15] Time cost=1.626\u001b[0m\n",
      "\u001b[31m[10/03/2018 09:05:31 INFO 139895187597120] Epoch[15] Validation-accuracy=1.000000\u001b[0m\n",
      "\u001b[31m[10/03/2018 09:05:32 INFO 139895187597120] Epoch[16] Train-accuracy=1.000000\u001b[0m\n",
      "\u001b[31m[10/03/2018 09:05:32 INFO 139895187597120] Epoch[16] Time cost=1.625\u001b[0m\n",
      "\u001b[31m[10/03/2018 09:05:33 INFO 139895187597120] Epoch[16] Validation-accuracy=1.000000\u001b[0m\n",
      "\u001b[31m[10/03/2018 09:05:35 INFO 139895187597120] Epoch[17] Train-accuracy=1.000000\u001b[0m\n",
      "\u001b[31m[10/03/2018 09:05:35 INFO 139895187597120] Epoch[17] Time cost=1.601\u001b[0m\n",
      "\u001b[31m[10/03/2018 09:05:36 INFO 139895187597120] Epoch[17] Validation-accuracy=1.000000\u001b[0m\n",
      "\u001b[31m[10/03/2018 09:05:37 INFO 139895187597120] Epoch[18] Train-accuracy=1.000000\u001b[0m\n",
      "\u001b[31m[10/03/2018 09:05:37 INFO 139895187597120] Epoch[18] Time cost=1.595\u001b[0m\n"
     ]
    },
    {
     "name": "stdout",
     "output_type": "stream",
     "text": [
      "\u001b[31m[10/03/2018 09:05:38 INFO 139895187597120] Epoch[18] Validation-accuracy=1.000000\u001b[0m\n",
      "\u001b[31m[10/03/2018 09:05:40 INFO 139895187597120] Epoch[19] Train-accuracy=1.000000\u001b[0m\n",
      "\u001b[31m[10/03/2018 09:05:40 INFO 139895187597120] Epoch[19] Time cost=1.607\u001b[0m\n",
      "\u001b[31m[10/03/2018 09:05:40 INFO 139895187597120] Epoch[19] Validation-accuracy=1.000000\u001b[0m\n",
      "\u001b[31m[10/03/2018 09:05:42 INFO 139895187597120] Epoch[20] Train-accuracy=1.000000\u001b[0m\n",
      "\u001b[31m[10/03/2018 09:05:42 INFO 139895187597120] Epoch[20] Time cost=1.621\u001b[0m\n",
      "\u001b[31m[10/03/2018 09:05:43 INFO 139895187597120] Epoch[20] Validation-accuracy=1.000000\u001b[0m\n",
      "\u001b[31m[10/03/2018 09:05:44 INFO 139895187597120] Epoch[21] Train-accuracy=1.000000\u001b[0m\n",
      "\u001b[31m[10/03/2018 09:05:44 INFO 139895187597120] Epoch[21] Time cost=1.609\u001b[0m\n",
      "\u001b[31m[10/03/2018 09:05:45 INFO 139895187597120] Epoch[21] Validation-accuracy=1.000000\u001b[0m\n",
      "\u001b[31m[10/03/2018 09:05:47 INFO 139895187597120] Epoch[22] Train-accuracy=1.000000\u001b[0m\n",
      "\u001b[31m[10/03/2018 09:05:47 INFO 139895187597120] Epoch[22] Time cost=1.634\u001b[0m\n",
      "\u001b[31m[10/03/2018 09:05:47 INFO 139895187597120] Epoch[22] Validation-accuracy=1.000000\u001b[0m\n",
      "\u001b[31m[10/03/2018 09:05:49 INFO 139895187597120] Epoch[23] Train-accuracy=1.000000\u001b[0m\n",
      "\u001b[31m[10/03/2018 09:05:49 INFO 139895187597120] Epoch[23] Time cost=1.603\u001b[0m\n",
      "\u001b[31m[10/03/2018 09:05:50 INFO 139895187597120] Epoch[23] Validation-accuracy=1.000000\u001b[0m\n",
      "\u001b[31m[10/03/2018 09:05:51 INFO 139895187597120] Epoch[24] Train-accuracy=1.000000\u001b[0m\n",
      "\u001b[31m[10/03/2018 09:05:51 INFO 139895187597120] Epoch[24] Time cost=1.591\u001b[0m\n",
      "\u001b[31m[10/03/2018 09:05:52 INFO 139895187597120] Epoch[24] Validation-accuracy=1.000000\u001b[0m\n",
      "\u001b[31m[10/03/2018 09:05:54 INFO 139895187597120] Epoch[25] Train-accuracy=1.000000\u001b[0m\n",
      "\u001b[31m[10/03/2018 09:05:54 INFO 139895187597120] Epoch[25] Time cost=1.637\u001b[0m\n",
      "\u001b[31m[10/03/2018 09:05:54 INFO 139895187597120] Epoch[25] Validation-accuracy=1.000000\u001b[0m\n",
      "\u001b[31m[10/03/2018 09:05:56 INFO 139895187597120] Epoch[26] Train-accuracy=1.000000\u001b[0m\n",
      "\u001b[31m[10/03/2018 09:05:56 INFO 139895187597120] Epoch[26] Time cost=1.610\u001b[0m\n",
      "\u001b[31m[10/03/2018 09:05:57 INFO 139895187597120] Epoch[26] Validation-accuracy=1.000000\u001b[0m\n",
      "\u001b[31m[10/03/2018 09:05:58 INFO 139895187597120] Epoch[27] Train-accuracy=1.000000\u001b[0m\n",
      "\u001b[31m[10/03/2018 09:05:58 INFO 139895187597120] Epoch[27] Time cost=1.611\u001b[0m\n",
      "\u001b[31m[10/03/2018 09:05:59 INFO 139895187597120] Epoch[27] Validation-accuracy=1.000000\u001b[0m\n",
      "\u001b[31m[10/03/2018 09:06:01 INFO 139895187597120] Epoch[28] Train-accuracy=1.000000\u001b[0m\n",
      "\u001b[31m[10/03/2018 09:06:01 INFO 139895187597120] Epoch[28] Time cost=1.602\u001b[0m\n",
      "\u001b[31m[10/03/2018 09:06:02 INFO 139895187597120] Epoch[28] Validation-accuracy=1.000000\u001b[0m\n",
      "\u001b[31m[10/03/2018 09:06:03 INFO 139895187597120] Epoch[29] Train-accuracy=1.000000\u001b[0m\n",
      "\u001b[31m[10/03/2018 09:06:03 INFO 139895187597120] Epoch[29] Time cost=1.593\u001b[0m\n",
      "\u001b[31m[10/03/2018 09:06:04 INFO 139895187597120] Saved checkpoint to \"/opt/ml/model/image-classification-0030.params\"\u001b[0m\n",
      "\u001b[31m[10/03/2018 09:06:04 INFO 139895187597120] Epoch[29] Validation-accuracy=1.000000\u001b[0m\n",
      "\n",
      "2018-10-03 09:06:08 Uploading - Uploading generated training model\n",
      "2018-10-03 09:06:44 Completed - Training job completed\n",
      "Billable seconds: 194\n",
      "\n",
      "\n",
      " Finished training! The model is available for download at: s3://sagemaker-us-west-2-541003905521/ic-transfer-learning/output/image-classification-2018-10-03-09-01-29-504/output/model.tar.gz\n",
      "CPU times: user 616 ms, sys: 0 ns, total: 616 ms\n",
      "Wall time: 5min 43s\n"
     ]
    }
   ],
   "source": [
    "%%time\n",
    "\n",
    "ic.fit(inputs=data_channels, logs=True)\n",
    "\n",
    "job = ic.latest_training_job\n",
    "model_path = f\"{base_dir}/{job.name}\"\n",
    "\n",
    "print(f\"\\n\\n Finished training! The model is available for download at: {ic.output_path}/{job.name}/output/model.tar.gz\")"
   ]
  },
  {
   "cell_type": "markdown",
   "metadata": {},
   "source": [
    "### Visualizing the training and validation progress\n",
    "\n",
    "If we want, we can parse CloudWatch logs to create a chart of the training progress."
   ]
  },
  {
   "cell_type": "code",
   "execution_count": null,
   "metadata": {},
   "outputs": [],
   "source": [
    "# Graphing Training / Validation progress\n",
    "\n",
    "import boto3\n",
    "import matplotlib.pyplot as plt\n",
    "import matplotlib.ticker as ticker\n",
    "import numpy as np\n",
    "\n",
    "client = boto3.client('logs')\n",
    "\n",
    "lgn='/aws/sagemaker/TrainingJobs'\n",
    "job = ic.latest_training_job\n",
    "\n",
    "# Update this with the actual name in CloudWatch logs\n",
    "lsn=job.job_name+'/'+'algo-1-1537929893'\n",
    "log=client.get_log_events(logGroupName=lgn, logStreamName=lsn)\n",
    "\n",
    "trn_accs=[]\n",
    "val_accs=[]\n",
    "for e in log['events']:\n",
    "  msg=e['message']\n",
    "  if 'Validation-accuracy' in msg:\n",
    "        val = msg.split(\"=\")\n",
    "        val = val[1]\n",
    "        val_accs.append(float(val))\n",
    "  if 'Train-accuracy' in msg:\n",
    "        trn = msg.split(\"=\")\n",
    "        trn = trn[1]\n",
    "        trn_accs.append(float(trn))\n",
    "\n",
    "print(\"Maximum validation accuracy: %f \" % max(val_accs))\n",
    "plt.clf()\n",
    "fig, ax = plt.subplots()\n",
    "plt.xlabel('Epochs')\n",
    "plt.ylabel('Accuracy')\n",
    "trn_plot, = ax.plot(range(hyperparameters[\"epochs\"]), trn_accs, label=\"Training accuracy\")\n",
    "val_plot, = ax.plot(range(hyperparameters[\"epochs\"]), val_accs, label=\"Validation accuracy\")\n",
    "plt.legend(handles=[trn_plot,val_plot])\n",
    "ax.yaxis.set_ticks(np.arange(0.4, 1.05, 0.05))\n",
    "ax.yaxis.set_major_formatter(ticker.FormatStrFormatter('%0.2f'))\n",
    "plt.show()"
   ]
  },
  {
   "cell_type": "markdown",
   "metadata": {},
   "source": [
    "## Running a model locally\n",
    "Before deploying our model to a new endpoint, it can be helpful to download the trained model and run it locally on this notebook host. Deploying the model takes some time."
   ]
  },
  {
   "cell_type": "code",
   "execution_count": null,
   "metadata": {},
   "outputs": [],
   "source": [
    "job = ic.latest_training_job\n",
    "model_path = f\"{base_dir}/{job.name}\"\n",
    "\n",
    "# Download the trained model from S3\n",
    "! mkdir -p {model_path}\n",
    "! aws s3 cp {ic.output_path}/{job.name}/output/model.tar.gz {model_path}/ --quiet\n",
    "! cd {model_path} && tar -xzf model.tar.gz && rm model.tar.gz\n",
    "! echo \"Model extracted to {model_path}\""
   ]
  },
  {
   "cell_type": "code",
   "execution_count": null,
   "metadata": {},
   "outputs": [],
   "source": [
    "import mxnet as mx\n",
    "\n",
    "# MXNet wants the filename prefix for the model, which we can infer from prefix of the symbol.json file's name\n",
    "symbol_filename = ! ls {model_path}/*-symbol.json\n",
    "symbol_filename = symbol_filename[0].split('/')[-1]\n",
    "job_name_prefix = symbol_filename.replace('-symbol.json', '')\n",
    "model_files_prefix = f\"{model_path}/{symbol_filename.replace('-symbol.json', '')}\"\n",
    "\n",
    "# Which snapshot to use?\n",
    "epoch_snapshot_number=30\n",
    "\n",
    "# Run our model on the CPU\n",
    "ctx = mx.cpu()\n",
    "\n",
    "# Initialize our model\n",
    "sym, arg_params, aux_params = mx.model.load_checkpoint(model_files_prefix, epoch_snapshot_number)\n",
    "mod = mx.mod.Module(symbol=sym, context=ctx, label_names=None)\n",
    "mod.bind(\n",
    "    for_training=False, \n",
    "    data_shapes=[('data', (1,3,224,224))], \n",
    "    label_shapes=mod._label_shapes\n",
    ")\n",
    "mod.set_params(arg_params, aux_params, allow_missing=True)\n",
    "\n",
    "\n",
    "\n",
    "# Load classes from file (the captured output of the lst file creation)\n",
    "classes_lines = open('/tmp/objects-home-a_classes','r').read().splitlines()\n",
    "classes=[parts.split(' ')[0] for parts in classes_lines]\n",
    "\n",
    "\n",
    "\n",
    "# Imports for working with image data\n",
    "%matplotlib inline\n",
    "import matplotlib.pyplot as plt\n",
    "import numpy as np\n",
    "\n",
    "# Define a simple data batch (used for wrapping up an image to submit to the model)\n",
    "from collections import namedtuple\n",
    "Batch = namedtuple('Batch', ['data'])\n",
    "\n",
    "def get_image(fname, show=False):\n",
    "    img = mx.image.imread(fname)\n",
    "    if img is None:\n",
    "        return None\n",
    "    if show:\n",
    "        plt.imshow(img.asnumpy())\n",
    "        plt.axis('off')\n",
    "    # convert into format (batch, RGB, width, height)\n",
    "    img = mx.image.imresize(img, 224, 224) # resize\n",
    "    img = img.transpose((2, 0, 1)) # Channel first\n",
    "    img = img.expand_dims(axis=0) # batchify\n",
    "    return img\n",
    "\n",
    "def classify_local(img_path, classes):\n",
    "    img = get_image(img_path, show=False)\n",
    "    # compute the predict probabilities\n",
    "    mod.forward(Batch([img]))\n",
    "    prob = mod.get_outputs()[0].asnumpy()\n",
    "    # get highest prob index\n",
    "    best_prob_index = np.argmax(prob)\n",
    "    return(classes[best_prob_index], np.squeeze(prob)[best_prob_index])\n"
   ]
  },
  {
   "cell_type": "code",
   "execution_count": null,
   "metadata": {},
   "outputs": [],
   "source": [
    "# Clean up our local model to free RAM\n",
    "mod = None"
   ]
  },
  {
   "cell_type": "markdown",
   "metadata": {},
   "source": [
    "### Helper function to classify all images in a directory (with one sub-dir per class to test)"
   ]
  },
  {
   "cell_type": "code",
   "execution_count": null,
   "metadata": {},
   "outputs": [],
   "source": [
    "def classify_all(imgs_dir, classifier_func, classes, expected_class_from_filename_func):\n",
    "    results = []\n",
    "\n",
    "    for root, dirs, files in os.walk(imgs_dir):\n",
    "        for file in files:\n",
    "            if file.endswith(\".jpg\"):\n",
    "                full_path = os.path.join(root, file)\n",
    "                (predicted_class, probability) = classifier_func(full_path, classes)\n",
    "                expected_class = expected_class_from_filename_func(full_path)\n",
    "                is_correct = predicted_class == expected_class\n",
    "                result = dict(\n",
    "                    file=full_path,\n",
    "                    is_correct=is_correct,\n",
    "                    predicted_class=predicted_class,\n",
    "                    expected_class=expected_class,\n",
    "                    probability=probability\n",
    "                )\n",
    "                results.append(result)\n",
    "\n",
    "    return results"
   ]
  },
  {
   "cell_type": "markdown",
   "metadata": {},
   "source": [
    "### Classify some new test images never seen by the network"
   ]
  },
  {
   "cell_type": "code",
   "execution_count": null,
   "metadata": {},
   "outputs": [],
   "source": [
    "# Download a virgin data set\n",
    "test_dataset_name = 'objects-home-b'\n",
    "! aws s3 sync s3://{data_bucket_name}/public/{test_dataset_name}/ {base_dir}/{test_dataset_name} --quiet\n",
    "! echo \"Synced data to {base_dir}/{test_dataset_name}\"\n"
   ]
  },
  {
   "cell_type": "code",
   "execution_count": null,
   "metadata": {},
   "outputs": [],
   "source": [
    "import os\n",
    "\n",
    "# Run our virgin data set through the model and calculate the percentage of correct classifications\n",
    "test_dir = base_dir + '/' + test_dataset_name\n",
    "expected_class_from_filename_func = lambda f : f.split('/')[3]\n",
    "\n",
    "print(f\"\\nTesting with {test_dir}\")\n",
    "\n",
    "results = classify_all(test_dir, classify_local, classes, expected_class_from_filename_func)\n",
    "            \n",
    "rights = [r for r in results if r['is_correct'] is True]\n",
    "wrongs = [r for r in results if r['is_correct'] is False]\n",
    "n_right = len(rights) * 1.0\n",
    "n_wrong = len(wrongs) * 1.0\n",
    "\n",
    "print(\"\\nUsing Classes: \" +str(classes))\n",
    "\n",
    "print(\"\\nTotal accuracy on new images: \" + str(n_right / (n_right+n_wrong)))\n",
    "\n",
    "\n",
    "print(\"\\nBreakdown of accuracy by class:\")\n",
    "stats = { 'right': {}, 'wrong': {} }\n",
    "for r in results:\n",
    "    right_or_wrong='right' if r['is_correct'] else 'wrong'\n",
    "    stats[right_or_wrong].setdefault(r['expected_class'], []).append(r)\n",
    "\n",
    "for cls in classes:\n",
    "    rights = stats['right'].get(cls, [])\n",
    "    wrongs = stats['wrong'].get(cls, [])\n",
    "    n_right = len(rights) * 1.0\n",
    "    n_wrong = len(wrongs) * 1.0\n",
    "    print(f\"Class {cls} has {n_right + n_wrong} images with total accuracy of: \" + str(n_right / (n_right+n_wrong)))"
   ]
  },
  {
   "cell_type": "markdown",
   "metadata": {},
   "source": [
    "## Deploy the trained model"
   ]
  },
  {
   "cell_type": "code",
   "execution_count": 12,
   "metadata": {},
   "outputs": [
    {
     "name": "stderr",
     "output_type": "stream",
     "text": [
      "INFO:sagemaker:Creating model with name: image-classification-2018-10-03-09-07-12-948\n",
      "INFO:sagemaker:Creating endpoint with name image-classification-2018-10-03-09-01-29-504\n"
     ]
    },
    {
     "name": "stdout",
     "output_type": "stream",
     "text": [
      "---------------------------------------------------------------------------!CPU times: user 344 ms, sys: 0 ns, total: 344 ms\n",
      "Wall time: 6min 19s\n"
     ]
    }
   ],
   "source": [
    "%%time\n",
    "# Deploying a model to an endpoint takes a few minutes, are you sure you want to do this?\n",
    "CONFIRM_DEPLOY = True # Change to True to deploy\n",
    "assert(CONFIRM_DEPLOY)\n",
    "\n",
    "ic_classifier = ic.deploy(\n",
    "    initial_instance_count = 1,\n",
    "    instance_type = 'ml.t2.medium'\n",
    ")"
   ]
  },
  {
   "cell_type": "markdown",
   "metadata": {},
   "source": [
    "### Calling a deployed endpoint"
   ]
  },
  {
   "cell_type": "code",
   "execution_count": null,
   "metadata": {},
   "outputs": [],
   "source": [
    "import json\n",
    "import numpy as np\n",
    "import os\n",
    "\n",
    "def classify_deployed(file_name, classes):\n",
    "    payload = None\n",
    "    with open(file_name, 'rb') as f:\n",
    "        payload = f.read()\n",
    "        payload = bytearray(payload)\n",
    "\n",
    "    ic_classifier.content_type = 'application/x-image'\n",
    "    result = json.loads(ic_classifier.predict(payload))\n",
    "    best_prob_index = np.argmax(result)\n",
    "    return (classes[best_prob_index], result[best_prob_index])\n",
    "\n"
   ]
  },
  {
   "cell_type": "markdown",
   "metadata": {},
   "source": [
    "### Clean up\n",
    "\n",
    "When we're done with the endpoint, we can just delete it and the backing instances will be released.  Run the following cell to delete the endpoint."
   ]
  },
  {
   "cell_type": "code",
   "execution_count": null,
   "metadata": {},
   "outputs": [],
   "source": [
    "ic_classifier.delete_endpoint()"
   ]
  },
  {
   "cell_type": "code",
   "execution_count": null,
   "metadata": {},
   "outputs": [],
   "source": [
    "\n",
    "# job = ic.latest_training_job\n",
    "# job_name_prefix = symbol_filename.replace('-symbol.json', '')\n",
    "# job_date_suffix = job.name.replace(job_name_prefix+'-', '')\n",
    "# job_date_suffix\n",
    "# datetime.strptime('2018-09-26-06-59-50-461', \"%Y-%m-%d-%H-%M-%S-%f\").timestamp()\n",
    "# #model_files_prefix\n",
    "# # t = '1984-06-02T19:05:00.000Z'\n",
    "# # parsed_t = dp.parse(t)"
   ]
  },
  {
   "cell_type": "code",
   "execution_count": null,
   "metadata": {},
   "outputs": [],
   "source": []
  }
 ],
 "metadata": {
  "kernelspec": {
   "display_name": "conda_mxnet_p36",
   "language": "python",
   "name": "conda_mxnet_p36"
  },
  "language_info": {
   "codemirror_mode": {
    "name": "ipython",
    "version": 3
   },
   "file_extension": ".py",
   "mimetype": "text/x-python",
   "name": "python",
   "nbconvert_exporter": "python",
   "pygments_lexer": "ipython3",
   "version": "3.6.5"
  },
  "notice": "Copyright 2018 Amazon.com, Inc. or its affiliates. All Rights Reserved.  Licensed under the Apache License, Version 2.0 (the \"License\"). You may not use this file except in compliance with the License. A copy of the License is located at http://aws.amazon.com/apache2.0/ or in the \"license\" file accompanying this file. This file is distributed on an \"AS IS\" BASIS, WITHOUT WARRANTIES OR CONDITIONS OF ANY KIND, either express or implied. See the License for the specific language governing permissions and limitations under the License."
 },
 "nbformat": 4,
 "nbformat_minor": 2
}
